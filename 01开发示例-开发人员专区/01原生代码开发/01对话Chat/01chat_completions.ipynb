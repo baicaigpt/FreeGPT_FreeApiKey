{
 "cells": [
  {
   "attachments": {},
   "cell_type": "markdown",
   "metadata": {},
   "source": [
    "# 查阅 开始前必读 [获取白菜APIKEY](https://doc.baicaigpt.com/getting_started/baicai_api_key)"
   ]
  },
  {
   "attachments": {},
   "cell_type": "markdown",
   "metadata": {},
   "source": [
    "> 对话Chat普通请求"
   ]
  },
  {
   "attachments": {},
   "cell_type": "markdown",
   "metadata": {},
   "source": [
    "1、参考如下示例代码，替换为你自己的白菜API_KEY"
   ]
  },
  {
   "cell_type": "code",
   "execution_count": 1,
   "metadata": {},
   "outputs": [
    {
     "name": "stdout",
     "output_type": "stream",
     "text": [
      "{\n",
      "  \"id\": \"chatcmpl-8ucPQDcEWQIl9dm7JIZzkFyhj0NTd\",\n",
      "  \"object\": \"chat.completion\",\n",
      "  \"created\": 1708504704,\n",
      "  \"model\": \"gpt-3.5-turbo-0125\",\n",
      "  \"choices\": [\n",
      "    {\n",
      "      \"index\": 0,\n",
      "      \"message\": {\n",
      "        \"role\": \"assistant\",\n",
      "        \"content\": \"Hello! How can I help you today?\"\n",
      "      },\n",
      "      \"logprobs\": null,\n",
      "      \"finish_reason\": \"stop\"\n",
      "    }\n",
      "  ],\n",
      "  \"usage\": {\n",
      "    \"prompt_tokens\": 19,\n",
      "    \"completion_tokens\": 9,\n",
      "    \"total_tokens\": 28\n",
      "  },\n",
      "  \"system_fingerprint\": \"fp_69829325d0\"\n",
      "}\n",
      "\n",
      "\n"
     ]
    }
   ],
   "source": [
    "import http.client\n",
    "import json\n",
    "\n",
    "conn = http.client.HTTPSConnection(\"api.baicaigpt.com\")\n",
    "payload = json.dumps({\n",
    "   \"model\": \"gpt-3.5-turbo\",\n",
    "   \"messages\": [\n",
    "      {\n",
    "         \"role\": \"system\",\n",
    "         \"content\": \"You are a helpful assistant.\"\n",
    "      },\n",
    "      {\n",
    "         \"role\": \"user\",\n",
    "         \"content\": \"Hello!\"\n",
    "      }\n",
    "   ]\n",
    "})\n",
    "headers = {\n",
    "   'Authorization': 'Bearer 你的白菜API_KEY',\n",
    "   'Content-Type': 'application/json'\n",
    "}\n",
    "conn.request(\"POST\", \"/v1/chat/completions\", payload, headers)\n",
    "res = conn.getresponse()\n",
    "data = res.read()\n",
    "print(data.decode(\"utf-8\"))"
   ]
  },
  {
   "attachments": {},
   "cell_type": "markdown",
   "metadata": {},
   "source": [
    "2、点击运行，查看运行结果，正常输出内容如下"
   ]
  },
  {
   "cell_type": "code",
   "execution_count": null,
   "metadata": {},
   "outputs": [],
   "source": [
    "{\n",
    "  \"id\": \"chatcmpl-8ucPQDcEWQIl9dm7JIZzkFyhj0NTd\",\n",
    "  \"object\": \"chat.completion\",\n",
    "  \"created\": 1708504704,\n",
    "  \"model\": \"gpt-3.5-turbo-0125\",\n",
    "  \"choices\": [\n",
    "    {\n",
    "      \"index\": 0,\n",
    "      \"message\": {\n",
    "        \"role\": \"assistant\",\n",
    "        \"content\": \"Hello! How can I help you today?\"\n",
    "      },\n",
    "      \"logprobs\": null,\n",
    "      \"finish_reason\": \"stop\"\n",
    "    }\n",
    "  ],\n",
    "  \"usage\": {\n",
    "    \"prompt_tokens\": 19,\n",
    "    \"completion_tokens\": 9,\n",
    "    \"total_tokens\": 28\n",
    "  },\n",
    "  \"system_fingerprint\": \"fp_69829325d0\"\n",
    "}\n",
    "\n"
   ]
  },
  {
   "attachments": {},
   "cell_type": "markdown",
   "metadata": {},
   "source": [
    "3、 登录 [白菜GPT-会员中心](https://shop.baicaigpt.com/#/account)，查看消费记录（可选）"
   ]
  },
  {
   "attachments": {},
   "cell_type": "markdown",
   "metadata": {},
   "source": [
    "4、结束"
   ]
  }
 ],
 "metadata": {
  "kernelspec": {
   "display_name": "Python 3",
   "language": "python",
   "name": "python3"
  },
  "language_info": {
   "codemirror_mode": {
    "name": "ipython",
    "version": 3
   },
   "file_extension": ".py",
   "mimetype": "text/x-python",
   "name": "python",
   "nbconvert_exporter": "python",
   "pygments_lexer": "ipython3",
   "version": "3.9.0rc2"
  },
  "orig_nbformat": 4
 },
 "nbformat": 4,
 "nbformat_minor": 2
}
