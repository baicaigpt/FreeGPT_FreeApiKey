{
 "cells": [
  {
   "attachments": {},
   "cell_type": "markdown",
   "metadata": {},
   "source": [
    "# [初级]原生代码请求completions接口，完成gpt3.5 /4 接口调用"
   ]
  },
  {
   "attachments": {},
   "cell_type": "markdown",
   "metadata": {},
   "source": [
    "> 本文演示基于白菜GPT转发APIKEY实现gpt-3.5、gpt-4对话请求及流式请求"
   ]
  },
  {
   "attachments": {},
   "cell_type": "markdown",
   "metadata": {},
   "source": [
    "## 复制如下代码，替换baicai-xxxxxxxx部分为你的 白菜API KEY"
   ]
  },
  {
   "attachments": {},
   "cell_type": "markdown",
   "metadata": {},
   "source": [
    "## 发起gpt-3.5请求"
   ]
  },
  {
   "cell_type": "code",
   "execution_count": null,
   "metadata": {},
   "outputs": [],
   "source": [
    "import http.client\n",
    "import json\n",
    "\n",
    "conn = http.client.HTTPSConnection(\"api.baicaigpt.com\")\n",
    "payload = json.dumps({\n",
    "   \"model\": \"gpt-3.5-turbo\",\n",
    "   \"messages\": [\n",
    "      {\n",
    "         \"role\": \"system\",\n",
    "         \"content\": \"你是小红书写作助理.\"\n",
    "      },\n",
    "      {\n",
    "         \"role\": \"user\",\n",
    "         \"content\": \"写一篇口红的种草文案!\"\n",
    "      }\n",
    "   ]\n",
    "})\n",
    "headers = {\n",
    "   'Authorization': 'Bearer bacai-XXXXXX',\n",
    "   'Content-Type': 'application/json'\n",
    "}\n",
    "conn.request(\"POST\", \"/v1/chat/completions\", payload, headers)\n",
    "res = conn.getresponse()\n",
    "data = res.read()\n",
    "print(data.decode(\"utf-8\"))"
   ]
  },
  {
   "attachments": {},
   "cell_type": "markdown",
   "metadata": {},
   "source": [
    "## 发起gpt-4请求"
   ]
  },
  {
   "cell_type": "code",
   "execution_count": null,
   "metadata": {},
   "outputs": [],
   "source": [
    "import http.client\n",
    "import json\n",
    "\n",
    "conn = http.client.HTTPSConnection(\"api.baicaigpt.com\")\n",
    "payload = json.dumps({\n",
    "   \"model\": \"gpt-4-turbo-preview\",\n",
    "   \"messages\": [\n",
    "      {\n",
    "         \"role\": \"system\",\n",
    "         \"content\": \"你是小红书写作助理.\"\n",
    "      },\n",
    "      {\n",
    "         \"role\": \"user\",\n",
    "         \"content\": \"写一篇口红的种草文案!\"\n",
    "      }\n",
    "   ]\n",
    "})\n",
    "headers = {\n",
    "   'Authorization': 'Bearer bacai-XXXXX',\n",
    "   'Content-Type': 'application/json'\n",
    "}\n",
    "conn.request(\"POST\", \"/v1/chat/completions\", payload, headers)\n",
    "res = conn.getresponse()\n",
    "data = res.read()\n",
    "print(data.decode(\"utf-8\"))"
   ]
  },
  {
   "attachments": {},
   "cell_type": "markdown",
   "metadata": {},
   "source": [
    "## 发起gpt3.5流式请求"
   ]
  },
  {
   "cell_type": "code",
   "execution_count": null,
   "metadata": {},
   "outputs": [],
   "source": [
    "import http.client\n",
    "import json\n",
    "\n",
    "conn = http.client.HTTPSConnection(\"api.baicaigpt.com\")\n",
    "payload = json.dumps({\n",
    "   \"model\": \"gpt-3.5-turbo\",\n",
    "   \"stream\":True,\n",
    "   \"messages\": [\n",
    "      {\n",
    "         \"role\": \"system\",\n",
    "         \"content\": \"你是小红书写作助理.\"\n",
    "      },\n",
    "      {\n",
    "         \"role\": \"user\",\n",
    "         \"content\": \"写一篇口红的种草文案!\"\n",
    "      }\n",
    "   ]\n",
    "})\n",
    "headers = {\n",
    "   'Authorization': 'Bearer bacai-XXXXXX',\n",
    "   'Content-Type': 'application/json'\n",
    "}\n",
    "conn.request(\"POST\", \"/v1/chat/completions\", payload, headers)\n",
    "res = conn.getresponse()\n",
    "data = res.read()\n",
    "print(data.decode(\"utf-8\"))"
   ]
  },
  {
   "attachments": {},
   "cell_type": "markdown",
   "metadata": {},
   "source": [
    "## gpt 4流式请求不在演示"
   ]
  },
  {
   "attachments": {},
   "cell_type": "markdown",
   "metadata": {},
   "source": [
    "## 查看白菜GPT 会员中心 消费明细 核实无误"
   ]
  }
 ],
 "metadata": {
  "kernelspec": {
   "display_name": "Python 3",
   "language": "python",
   "name": "python3"
  },
  "language_info": {
   "codemirror_mode": {
    "name": "ipython",
    "version": 3
   },
   "file_extension": ".py",
   "mimetype": "text/x-python",
   "name": "python",
   "nbconvert_exporter": "python",
   "pygments_lexer": "ipython3",
   "version": "3.9.0"
  },
  "orig_nbformat": 4
 },
 "nbformat": 4,
 "nbformat_minor": 2
}
